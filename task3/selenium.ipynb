{
 "cells": [
  {
   "cell_type": "markdown",
   "metadata": {},
   "source": [
    "# selenium\n",
    "1. selenium是一个自动化测试工具\n",
    "2. selenium应用场景为：用代码的方式去模拟浏览器的操作过程（比如打开浏览器、在输入框里输入文字、回车等），在爬虫方面很有必要"
   ]
  },
  {
   "cell_type": "markdown",
   "metadata": {},
   "source": [
    "### 1. 导入模块"
   ]
  },
  {
   "cell_type": "code",
   "execution_count": 6,
   "metadata": {},
   "outputs": [],
   "source": [
    "from selenium import webdriver    # 启动浏览器需要用到\n",
    "from selenium.webdriver.common.keys import Keys    # 提供键盘按键支持"
   ]
  },
  {
   "cell_type": "markdown",
   "metadata": {},
   "source": [
    "### 2.创建一个WebDriver实例："
   ]
  },
  {
   "cell_type": "code",
   "execution_count": null,
   "metadata": {},
   "outputs": [],
   "source": [
    "driver = webdriver.Chrome(\"C:\\Program Files (x86)\\Google\\Chrome\\Application\\chromedriver.exe\")"
   ]
  },
  {
   "cell_type": "markdown",
   "metadata": {},
   "source": [
    "### 3.打开一个页面"
   ]
  },
  {
   "cell_type": "code",
   "execution_count": null,
   "metadata": {},
   "outputs": [],
   "source": [
    "driver.get(\"https://www.douban.com/\")"
   ]
  },
  {
   "cell_type": "markdown",
   "metadata": {},
   "source": [
    "### 4.关闭页面"
   ]
  },
  {
   "cell_type": "code",
   "execution_count": 19,
   "metadata": {},
   "outputs": [],
   "source": [
    "#driver.close()    #关闭浏览器一个tab\n",
    "driver.quit()    # 关闭浏览器窗口"
   ]
  },
  {
   "cell_type": "markdown",
   "metadata": {},
   "source": [
    "# 高级-查找元素\n",
    "-在打开页面和关闭页面中间，就是各种操作。而查找元素这一点，和爬虫常见的HTML页面解析，定位到具体的某个基本元素一样，区别在于调用者是driver"
   ]
  },
  {
   "cell_type": "code",
   "execution_count": 28,
   "metadata": {},
   "outputs": [],
   "source": [
    "element = driver.find_element_by_name(\"q\")"
   ]
  },
  {
   "cell_type": "markdown",
   "metadata": {},
   "source": [
    "# 高级-页面交互\n",
    "-找到元素后，就是进行“交互”，如键盘输入"
   ]
  },
  {
   "cell_type": "code",
   "execution_count": null,
   "metadata": {},
   "outputs": [],
   "source": [
    "element.send_keys(\"some text\")    # 往一个对象中输入“some text”\n",
    "\n",
    "#element.send_keys(Keys.RETURN)    # 模拟键盘回车\n",
    "\n",
    "element.clear()    # 清空element对象中的文字"
   ]
  },
  {
   "cell_type": "markdown",
   "metadata": {},
   "source": [
    "# 高级-等待页面加载（wait）\n",
    "-应用场景：含有ajax加载的page！因为这种情况下，页面内的某个节点并不是在一开始出现了，而在这种情况下，就不能“查找元素”，元素选择找不到，就不好进行交互操作。等待页面加载这两个模块经常一起导入"
   ]
  },
  {
   "cell_type": "code",
   "execution_count": null,
   "metadata": {},
   "outputs": [],
   "source": [
    "from selenium.webdriver.support.ui import WebDriverWait as WDW\n",
    "from selenium.webdriver.support import expected_conditions as EC"
   ]
  },
  {
   "cell_type": "markdown",
   "metadata": {},
   "source": [
    "显示等待：触发某个条件够才能够执行后续的代码"
   ]
  },
  {
   "cell_type": "code",
   "execution_count": null,
   "metadata": {},
   "outputs": [],
   "source": [
    "driver = webdriver.Firefox()\n",
    "driver.get(\"http://www.python.org\")\n",
    "try:\n",
    "    element = WDW(driver,10).until(\n",
    "        EC.presence_of_element_located((By.ID,\"myDynamicElement\")))\n",
    "finally:\n",
    "    driver.qiut()\n",
    "# presence_of_element_located是条件，By.ID是通过什么方式来确认元素（这里通过ID），“myDynamicElement”就是某个元素的ID"
   ]
  },
  {
   "cell_type": "markdown",
   "metadata": {},
   "source": [
    "隐示等待：设置某个具体的等待时间"
   ]
  },
  {
   "cell_type": "code",
   "execution_count": null,
   "metadata": {},
   "outputs": [],
   "source": [
    "driver = webdriver.Firefox()\n",
    "driver.implicitly_wait(10)    #seconds\n",
    "driver.get(\"http://www.python.org\")\n",
    "myDynamicElement = driver.find_element_by_id(\"myDynami\")"
   ]
  },
  {
   "cell_type": "code",
   "execution_count": null,
   "metadata": {},
   "outputs": [],
   "source": []
  }
 ],
 "metadata": {
  "kernelspec": {
   "display_name": "Python 3",
   "language": "python",
   "name": "python3"
  },
  "language_info": {
   "codemirror_mode": {
    "name": "ipython",
    "version": 3
   },
   "file_extension": ".py",
   "mimetype": "text/x-python",
   "name": "python",
   "nbconvert_exporter": "python",
   "pygments_lexer": "ipython3",
   "version": "3.5.6"
  }
 },
 "nbformat": 4,
 "nbformat_minor": 2
}
