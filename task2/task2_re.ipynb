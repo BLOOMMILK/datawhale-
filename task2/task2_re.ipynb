{
 "cells": [
  {
   "cell_type": "markdown",
   "metadata": {},
   "source": [
    "# 学习正则表达式re"
   ]
  },
  {
   "cell_type": "markdown",
   "metadata": {},
   "source": [
    "## 实战：淘宝商品比价定向爬虫\n",
    "爬取网址：https://s.taobao.com/search?q=书包&js=1&stats_click=search_radio_all%25"
   ]
  },
  {
   "cell_type": "code",
   "execution_count": 1,
   "metadata": {},
   "outputs": [],
   "source": [
    "import requests\n",
    "import re"
   ]
  },
  {
   "cell_type": "markdown",
   "metadata": {},
   "source": [
    "### 1.提交商品搜索请求，循环获取页面"
   ]
  },
  {
   "cell_type": "code",
   "execution_count": 9,
   "metadata": {},
   "outputs": [],
   "source": [
    "def getHTMLText(url):\n",
    "    \"\"\"\n",
    "    请求获取html,(字符串)\n",
    "    ：param url:爬取网址\n",
    "    ：return：字符串\n",
    "    \"\"\"\n",
    "    \n",
    "    try:\n",
    "        # 添加头信息\n",
    "        kv = {\n",
    "            'cookie': 'thw=cn; v=0; t=ab66dffdedcb481f77fd563809639584; cookie2=1f14e41c704ef58f8b66ff509d0d122e; _tb_token_=5e6bed8635536; cna=fGOnFZvieDECAXWIVi96eKju; unb=1864721683; sg=%E4%B8%8B3f; _l_g_=Ug%3D%3D; skt=83871ef3b7a49a0f; cookie1=BqeGegkL%2BLUif2jpoUcc6t6Ogy0RFtJuYXR4VHB7W0A%3D; csg=3f233d33; uc3=vt3=F8dBy3%2F50cpZbAursCI%3D&id2=UondEBnuqeCnfA%3D%3D&nk2=u%2F5wdRaOPk21wDx%2F&lg2=VFC%2FuZ9ayeYq2g%3D%3D; existShop=MTU2MjUyMzkyMw%3D%3D; tracknick=%5Cu4E36%5Cu541B%5Cu4E34%5Cu4E3F%5Cu5929%5Cu4E0B; lgc=%5Cu4E36%5Cu541B%5Cu4E34%5Cu4E3F%5Cu5929%5Cu4E0B; _cc_=WqG3DMC9EA%3D%3D; dnk=%5Cu4E36%5Cu541B%5Cu4E34%5Cu4E3F%5Cu5929%5Cu4E0B; _nk_=%5Cu4E36%5Cu541B%5Cu4E34%5Cu4E3F%5Cu5929%5Cu4E0B; cookie17=UondEBnuqeCnfA%3D%3D; tg=0; enc=2GbbFv3joWCJmxVZNFLPuxUUDA7QTpES2D5NF0D6T1EIvSUqKbx15CNrsn7nR9g%2Fz8gPUYbZEI95bhHG8M9pwA%3D%3D; hng=CN%7Czh-CN%7CCNY%7C156; mt=ci=32_1; alitrackid=www.taobao.com; lastalitrackid=www.taobao.com; swfstore=97213; x=e%3D1%26p%3D*%26s%3D0%26c%3D0%26f%3D0%26g%3D0%26t%3D0%26__ll%3D-1%26_ato%3D0; uc1=cookie16=UtASsssmPlP%2Ff1IHDsDaPRu%2BPw%3D%3D&cookie21=UIHiLt3xThH8t7YQouiW&cookie15=URm48syIIVrSKA%3D%3D&existShop=false&pas=0&cookie14=UoTaGqj%2FcX1yKw%3D%3D&tag=8&lng=zh_CN; JSESSIONID=A502D8EDDCE7B58F15F170380A767027; isg=BMnJJFqj8FrUHowu4yKyNXcd2PXjvpa98f4aQWs-RbDvsunEs2bNGLfj8BYE6lWA; l=cBTDZx2mqxnxDRr0BOCanurza77OSIRYYuPzaNbMi_5dd6T114_OkmrjfF96VjWdO2LB4G2npwJ9-etkZ1QoqpJRWkvP.; whl=-1%260%260%261562528831082',\n",
    "\n",
    "            'user-agent':'Mozilla/5.0 (Windows NT 10.0; Win64; x64) AppleWebKit/537.36 (KHTML, like Gecko) Chrome/81.0.4044.122 Safari/537.36'\n",
    "        }\n",
    "        r = requests.get(url, timeout=30, headers=kv)\n",
    "        r.raise_for_status()\n",
    "        r.encoding = r.apparent_encoding\n",
    "        return r.text\n",
    "    except:\n",
    "        return \"爬取失败\""
   ]
  },
  {
   "cell_type": "markdown",
   "metadata": {},
   "source": [
    "### 2.对于每个页面，提取商品名称和价格信息"
   ]
  },
  {
   "cell_type": "code",
   "execution_count": 3,
   "metadata": {},
   "outputs": [],
   "source": [
    "def parsePage(glist, html):\n",
    "    '''\n",
    "    解析网页，搜索需要的信息\n",
    "    :param glist: 列表作为存储容器\n",
    "    :param html: 由getHTMLText()得到的\n",
    "    :return: 商品信息的列表\n",
    "    '''\n",
    "    try:\n",
    "        # 使用正则表达式提取信息\n",
    "        price_list = re.findall(r'\\\"view_price\\\"\\:\\\"[\\d\\.]*\\\"', html)\n",
    "        name_list = re.findall(r'\\\"raw_title\\\"\\:\\\".*?\\\"', html)\n",
    "        for i in range(len(price_list)):\n",
    "            price = eval(price_list[i].split(\":\")[1])  #eval（）在此可以去掉\"\"\n",
    "            name = eval(name_list[i].split(\":\")[1])\n",
    "            glist.append([price, name])\n",
    "    except:\n",
    "        print(\"解析失败\")"
   ]
  },
  {
   "cell_type": "markdown",
   "metadata": {},
   "source": [
    "### 3.将信息输出到屏幕上"
   ]
  },
  {
   "cell_type": "code",
   "execution_count": 4,
   "metadata": {},
   "outputs": [],
   "source": [
    "def printGoodList(glist):\n",
    "    tplt = \"{0:^4}\\t{1:^6}\\t{2:^10}\"\n",
    "    print(tplt.format(\"序号\", \"商品价格\", \"商品名称\"))\n",
    "    count = 0\n",
    "    for g in glist:\n",
    "        count = count + 1\n",
    "        print(tplt.format(count, g[0], g[1]))"
   ]
  },
  {
   "cell_type": "code",
   "execution_count": 5,
   "metadata": {},
   "outputs": [],
   "source": [
    "# 根据页面url的变化寻找规律，构建爬取url\n",
    "goods_name = \"书包\"  # 搜索商品类型\n",
    "start_url = \"https://s.taobao.com/search?q=\" + goods_name\n",
    "info_list = []\n",
    "page = 3  # 爬取页面数量"
   ]
  },
  {
   "cell_type": "code",
   "execution_count": 6,
   "metadata": {},
   "outputs": [
    {
     "name": "stdout",
     "output_type": "stream",
     "text": [
      "爬取页面当前进度: 100.00%"
     ]
    }
   ],
   "source": [
    "count = 0\n",
    "for i in range(page):\n",
    "    count += 1\n",
    "    try:\n",
    "        url = start_url + \"&s=\" + str(44 * i)\n",
    "        html = getHTMLText(url)  # 爬取url\n",
    "        parsePage(info_list, html) #解析HTML和爬取内容\n",
    "        print(\"\\r爬取页面当前进度: {:.2f}%\".format(count * 100 / page), end=\"\")  # 显示进度条\n",
    "    except:\n",
    "        continue"
   ]
  },
  {
   "cell_type": "code",
   "execution_count": 7,
   "metadata": {},
   "outputs": [
    {
     "name": "stdout",
     "output_type": "stream",
     "text": [
      " 序号 \t 商品价格 \t   商品名称   \n",
      " 1  \t68.00 \t迪士尼儿童书包小学生女孩男孩女童男童背包\n",
      " 2  \t59.00 \t双肩包男士大容量旅行电脑背包时尚潮流高中初中学生书包女大学生\n",
      " 3  \t149.00\t鳄鱼男士双肩包商务休闲电脑帆布背包旅游旅行包时尚潮流学生书包\n",
      " 4  \t79.90 \t背包男士双肩包时尚潮流旅游电脑高中大学生书包韩版原宿ulzzang\n",
      " 5  \t219.00\tNIKE耐克双肩包男包女包官网旗舰高中初中运动包学生书包旅行背包\n",
      " 6  \t219.00\tNIKE耐克双肩包男包女包2020春季新款户外运动包学生书包旅行背包\n",
      " 7  \t59.90 \tHK双肩包男简约书包时尚潮流休闲电脑包旅行轻便高中生大学生背包\n",
      " 8  \t279.00\tJordan 官方 AIR JORDAN 双肩包 书包背包\n",
      " CW7699\n",
      " 9  \t255.00\tViney双肩包包2020新款潮真皮时尚背包女大容量书包韩版百搭女包\n",
      " 10 \t288.00\t【新品】JanSport杰斯伯双肩包女学生书包男背包运动休闲背包4QUT\n",
      " 11 \t99.90 \t迪卡侬户外双肩背包男女休闲双肩包运动学生小书包轻便10L QUBP\n",
      " 12 \t89.00 \t背包男士简约时尚街头潮流个性书包休闲轻便电脑包旅行户外双肩包\n",
      " 13 \t689.00\t背包双肩包男士商务旅行背包防盗电脑包休闲书包男多功能大旅游包\n",
      " 14 \t175.00\t不莱玫迪士尼合作款书包女韩版高中百搭ins双肩包时尚可爱小背包\n",
      " 15 \t175.00\t不莱玫迪士尼米奇双肩包新款韩版高中复古背包大容量学生帆布书包\n",
      " 16 \t998.00\tFion/菲安妮休闲双肩包潮流学生书包 2020新款女包尼龙黑色旅行包\n",
      " 17 \t479.00\tFjallraven/瑞典北极狐双肩包kanken书包女电脑旅行背包官方23510\n",
      " 18 \t899.00\t【买1送1】Fion/菲安妮大牌双肩包女 2020新款印花背包旅行书包\n",
      " 19 \t149.00\tPUMA彪马背包2020新款女包双肩包拎包休闲小包PU小书包076960-02\n",
      " 20 \t139.00\t阿迪达斯学生书包男女包初中高中大学生电脑包运动双肩背包FI7968\n",
      " 21 \t249.90\t迪卡侬旗舰店新款大容量双肩背包户外运动防水书包休闲男女TRD\n",
      " 22 \t139.00\t阿迪达斯双肩背包男包女包2020夏季新款运动电脑包学生书包FQ5261\n",
      " 23 \t299.00\tViney真皮双肩包2020年新款韩版百搭书包韩版原宿ulzzang双肩背包\n",
      " 24 \t998.00\tHerschel Little America经典色旅游双肩包男女士背包书包10020\n",
      " 25 \t129.00\t阿迪达斯男包女包学生书包2020春季新款休闲旅行包双肩背包FJ9267\n",
      " 26 \t69.90 \t大脸兔牛津布双肩包女2020新款韩版尼龙百搭旅行防水超轻背包书包\n",
      " 27 \t119.00\t特步男女双肩包2020夏季新款大容量书包百搭潮流男士女士运动背包\n",
      " 28 \t698.00\tHerschel Retreat春夏新色旅游双肩包男女士书包背包百搭10066\n",
      " 29 \t970.00\tGaston Luga瑞典潮牌背包男双肩包女大容量旅行包休闲书包电脑包\n",
      " 30 \t288.00\t【新品】JanSport杰斯伯双肩包女学生书包背包星空图案4QUT56L\n",
      " 31 \t269.00\t李宁双肩包男包女包2020新款训练系列学生书包运动包ABSQ024\n",
      " 32 \t259.00\tHype双肩包少女渐变小清新背包简约时尚百搭ins风潮牌大学生书包\n",
      " 33 \t149.00\t特步男女双肩包2020春季新款综训背包舒适简约纯色书包男运动背包\n",
      " 34 \t178.00\t迪士尼小学生书包女童1-3-4一三年级冰雪奇缘女孩减负儿童双肩包6\n",
      " 35 \t498.00\tTiger Family护脊减负书包 小学生3-5年级儿童女12周岁男童背包\n",
      " 36 \t199.00\t瑞士军士刀双肩包男大容量休闲商务旅行电脑背包男士初中学生书包\n",
      " 37 \t158.00\t安踏花木兰联名双肩包男女官网2020新款学生书包大容量运动旅行包\n",
      " 38 \t299.00\t【直营】Adidas双肩包男女CL AOP运动休闲舒适学生书包背包FM6896\n",
      " 39 \t438.00\ttigerfamily小学生书包1-3年级男女孩儿童书包减负护脊背包6周岁\n",
      " 40 \t129.00\tuek小学生书包男孩女生一三五 六年级护脊双肩6-12岁轻便减压儿童\n",
      " 41 \t419.00\tFjallraven/北极狐双肩包kanken mini 迷你情侣书包背包女23561\n",
      " 42 \t59.00 \t木村耀司书包中学生初中生女韩版高中双肩背包大学生ins风大容量\n",
      " 43 \t239.00\tHype黑白格子双肩包女背包简约百搭ins风潮牌韩版高中大学生书包\n",
      " 44 \t589.00\tkipling女士多背法背包2020年新款时尚潮简约书包双肩包|IVES系列\n",
      " 45 \t79.00 \t双肩包男士大容量初中学生高中大学生书包时尚潮流电脑旅行背包男\n",
      " 46 \t129.00\t小米双肩包书包男女笔记本电脑包时尚潮流旅行背包\n",
      " 47 \t669.00\tkipling女士帆布背包2020年新款时尚简约休闲潮流书包双肩包|ROSE\n",
      " 48 \t49.90 \tins书包女韩版高中原宿ulzzang初中生中学生百搭泫雅大容量双肩包\n",
      " 49 \t669.00\tkipling女士帆布背包2020年新款时尚简约休闲潮流书包双肩包|ROSE\n",
      " 50 \t389.00\t朱丹推荐诺狐书包小学生女孩一二三到六年级护脊减负儿童双肩背包\n",
      " 51 \t899.00\t[2020新款]挪威Beckmann小学生书包女男儿童护脊减压背包1-3年级\n",
      " 52 \t399.00\tFILA斐乐童装旗舰店儿童双肩包小学生书包男童女童低年级背包新款\n",
      " 53 \t115.00\tkk树书包小学生女孩6-12岁儿童一二三到六年级女童双肩包护脊减负\n",
      " 54 \t188.00\t优仅ALLJOINT儿童书包可爱幼儿园双肩甜甜圈彩虹幼儿背包女童包包\n",
      " 55 \t188.00\t迪士尼拉杆书包小学生女童3-6年级公主3轮爬楼女孩两用儿童双肩包\n",
      " 56 \t589.00\t双肩包男士背包商务休闲旅行背包防盗旅游包女大中学生书包电脑包\n",
      " 57 \t899.00\t挪威官方正品Beckmann小学生书包女男儿童护脊减压背包1-3年级\n",
      " 58 \t199.00\tPUMA彪马官网正品双肩包男包女包2020春季新款运动包学生书包背包\n",
      " 59 \t219.00\tPUMA彪马双肩包男包女包2020新款学生书包运动包旅行包背包076652\n",
      " 60 \t498.00\tHerschel City中号校园双肩包男书包背包潮牌女 ins 百搭10486\n",
      " 61 \t159.90\t迪卡侬运动双肩包电脑背包书包男女健身包旅行包休闲商务新款FICA\n",
      " 62 \t598.00\tHerschel Dawson 双肩包男书包女ins风潮牌街头背包欧美10233\n",
      " 63 \t49.90 \t迪卡侬 双肩背包书包小双肩包旅行包学生休闲包男户外包女20L SOL\n",
      " 64 \t226.00\t真皮双肩包女2020年新款书包女百搭大容量头层牛皮女士软皮背包潮\n",
      " 65 \t378.00\ttigerfamily儿童书包小学生一年级1-3 女男6岁耐磨减负护脊双肩包\n",
      " 66 \t219.00\tPUMA彪马双肩包男包女包2019新款运动包休闲背包学生书包074706\n",
      " 67 \t499.00\tFION/菲安妮新款双肩包旅行包 女士印花背包青年防水名牌书包小包\n",
      " 68 \t889.00\tkipling男女大容量电脑背包2020年新款时尚书包旅行双肩包|SEOUL\n",
      " 69 \t699.00\t北极狐laptop笔记本电脑包13/15/17英寸男女手提双肩背包学生书包\n",
      " 70 \t479.00\tFjallraven/北极狐书包kanken双肩包女户外包运动背包男23510\n",
      " 71 \t698.00\tkipling女大容量背包春夏新品时尚简约潮流休闲书包双肩包|MATTA\n",
      " 72 \t239.00\tHype双肩包女迷你小包百搭逛街用mini小背包ins风潮牌大学生书包\n",
      " 73 \t258.00\t电视剧款JanSport杰斯伯双肩包包时尚潮女书包背包男大容量电脑包\n",
      " 74 \t358.00\tJanSport旗舰店官网双肩背包女学生书包电脑包男背包 3P6X04V\n",
      " 75 \t149.00\t鳄鱼男士双肩包商务休闲电脑帆布背包旅游旅行包时尚潮流学生书包\n",
      " 76 \t268.00\tBOPAI博牌电脑背包男户外旅行休闲双肩包商务书包出差多功能男包\n",
      " 77 \t408.00\tFILA斐乐小学生书包大容量男女童背包2020春新款儿童双肩包3M反光\n",
      " 78 \t499.00\tSamsonite/新秀丽双肩包包2020新款 书包女ins风背包旅行包TQ4\n",
      " 79 \t398.00\t安踏中国英雄双肩包潮牌街头嘻哈情侣双肩包男女时尚潮流书包背包\n",
      " 80 \t103.50\t瑞士军刀双肩包男背包休闲商务旅行大容量瑞士书包高中生电脑男士\n",
      " 81 \t2598.00\t【亚洲限定款】天使之翼SEIBAN 日本保税护脊减负小学生粉色书包\n",
      " 82 \t169.00\t小米 米兔儿童书包 6-12岁男女小学生潮双肩背包幼儿园大容量背包\n",
      " 83 \t199.00\t小米双肩包商务旅行背包大容量书包男士时尚多功能笔记本电脑包\n",
      " 84 \t398.00\t安踏中国对背包男潮牌2020春季新款大容量书包学生旅行运动双肩包\n",
      " 85 \t299.00\tBOPAI博牌双肩包男商务休闲简约大容量背包时尚书包15.6寸电脑包\n",
      " 86 \t59.80 \t儿童书包小学生男女一二三到六年级韩版减负护脊贵族书包轻便防水\n",
      " 87 \t408.00\t李宁CF溯系列双肩包敦煌拓男包女包2020新款学生书包运动包\n",
      " 88 \t2180.00\tFREITAG F49 FRINGE 双肩包 旅行背包书包 瑞士环保潮流包\n",
      " 89 \t229.00\t朱尔防盗双肩包女2020新款时尚牛津布女士背包百搭书包帆布女包包\n",
      " 90 \t488.00\t香港tigerfamily小学生护脊书包 男女5-9年级初中学生减负双肩包\n",
      " 91 \t499.00\t日本进口卡芙露书包小学生1-3年级6儿童轻便减负护脊男女双肩背包\n",
      " 92 \t299.00\tCHARLES＆KEITH女包CK2-80840173-1粗链条翻盖单肩情书包婚包\n",
      " 93 \t115.00\tKK剑桥树书包小学生男孩一二三到六年级儿童6-12岁男童双肩包减负\n",
      " 94 \t798.00\tSamsonite/新秀丽儿童书包小学生男孩女孩儿童轻便双肩背包  HB5\n",
      " 95 \t78.00 \t凯蒂猫书包小学生女童一二三六年级女孩减负轻便儿童休闲双肩背包\n",
      " 96 \t798.00\tito双肩包男商务设计师电脑包女皮质背包书包ins韩版原宿ulzzang\n",
      " 97 \t195.02\t国家地理背包女运动户外时尚双肩包男牛津布旅行防水学生情侣书包\n",
      " 98 \t59.80 \t商务背包男士双肩包韩版潮流旅行休闲女中学生书包简约时尚电脑包\n",
      " 99 \t239.00\tSkechers斯凯奇男女同款双肩背包书包LOGO刺绣运动休闲包L120U021\n",
      "100 \t89.00 \t双肩包女书包韩版原宿ulzzang中学生初中生高中大容量大学生背包\n",
      "101 \t599.00\tFion/菲安妮时尚潮流双肩包女 小怪兽可爱学生书包简约女士小背包\n",
      "102 \t69.00 \t牛津布双肩包女2020新款潮韩版时尚百搭大学生书包旅行帆布小背包\n",
      "103 \t299.00\tCHARLES＆KEITH 情书包 CK2-80840173-1朋克粗链条翻盖单肩包女\n",
      "104 \t469.00\tDoughnut Macaroon粉彩背包旅行书包户外学生双肩包女新款\n",
      "105 \t149.00\t华为旗下荣耀亲选双肩包书包背包男女学生商务大学生大容量防水\n",
      "106 \t59.90 \t韩版ins暗黑系休闲双肩包男女简约工装高中学生书包大容量背包潮\n",
      "107 \t89.00 \t书包女韩版高中运动风双肩包大容量中学生大学生简约背包休闲旅行\n",
      "108 \t1169.00\tergobag德国儿童减负护脊护肩书包中小学生书包男女1-5年级\n",
      "109 \t76.00 \t儿童书包小学生女一二三到六年级韩版减负护脊男孩轻便防水书包\n",
      "110 \t59.90 \t森马双肩包女大学生轻便简约书包韩版高中休闲旅行背包男时尚潮流\n",
      "111 \t149.00\tPUMA彪马双肩包男包女包夏季新款运动包校园学生书包户外旅行背包\n",
      "112 \t179.00\tPUMA彪马双肩包男包女包2020新款运动包学生书包潮休闲包旅行背包\n",
      "113 \t998.00\tHerschel Little America 春夏新色双肩包男背包书包潮流10014\n",
      "114 \t698.00\tHerschel Retreat经典色时尚潮流男女双肩包书包背包潮牌10066\n",
      "115 \t869.00\tkipling男女大容量电脑包2020新款时尚书包旅行包双肩包|SO BABY\n",
      "116 \t258.00\tJanSport旗舰店官网杰斯伯双肩包女学生书包纯色男士女士背包T501\n",
      "117 \t698.00\tkipling男女款大容量轻便帆布包简约复古休闲潮书包双肩包|MICAH\n",
      "118 \t358.00\tJanSport旗舰店官网女双肩背包学生书包电脑包男背包 3P6X008\n",
      "119 \t139.00\t安踏背包休闲包 2020新款潮流休闲运动背包学生书包电脑包旅行包\n",
      "120 \t799.00\tFION菲安妮双肩包女潮流女式旅行包 时尚书包防水女士背包妈妈包\n",
      "121 \t109.00\tbabycare宝宝入园书包婴 幼儿园小书包3岁男女儿童防走失背包可爱\n",
      "122 \t115.00\tkk树书包小学生男孩1-3-4-5年级儿童背包女孩6-12周岁双肩包护脊\n",
      "123 \t139.00\t瑞士军士刀双肩包男大容量瑞士军刀旅行电脑背包男士初中学生书包\n",
      "124 \t178.00\t书包ins韩版原宿ulzzang初中高中大学生百搭森系背包网红双肩包女\n",
      "125 \t148.00\t迪士尼书包小学生男童1-3-4年级蜘蛛侠美国队长男孩儿童双肩背包6\n",
      "126 \t289.00\tuek儿童书包女小学生一二年级轻便女孩四五年级可爱女生双肩背包\n",
      "127 \t49.00 \t背包男士潮牌大容量时尚韩版高中学生书包女旅行包潮流工装双肩包\n",
      "128 \t59.00 \t帆布书包女小学生韩版休闲双肩包校园简约森系大容量ins风中学生\n",
      "129 \t185.00\t不莱玫包包2020新款网红百搭时尚托特包手提单肩包女大容量书包潮\n",
      "130 \t1588.00\t【GPS定位】英国AnythingStudio小学生书包 儿童女进口英伦日本风\n",
      "131 \t168.00\t多妙屋书包小学生1-3-4年级男童女童6-12岁韩版儿童减负双肩背包\n",
      "132 \t165.00\tkk树小学生拉杆书包1-3-6年级女童6-12周岁儿童公主防水轻便背包\n",
      "133 \t118.00\t可优比儿童背包防走丢失带包宝宝书包1-3岁幼儿园书包男女童包包\n",
      "134 \t145.00\t不莱玫迪士尼合作款双肩包女韩版百搭可爱小书包ins潮酷旅行背包\n",
      "135 \t149.00\t迪士尼商店 冰雪奇缘艾莎安娜米妮蜘蛛侠卡通双肩包背包学生书包\n",
      "136 \t229.00\t真皮双肩包女2020春季新款上新软皮背包防盗旅行旅游书包头层牛皮\n"
     ]
    }
   ],
   "source": [
    "printGoodList(info_list)"
   ]
  }
 ],
 "metadata": {
  "kernelspec": {
   "display_name": "Python 3",
   "language": "python",
   "name": "python3"
  },
  "language_info": {
   "codemirror_mode": {
    "name": "ipython",
    "version": 3
   },
   "file_extension": ".py",
   "mimetype": "text/x-python",
   "name": "python",
   "nbconvert_exporter": "python",
   "pygments_lexer": "ipython3",
   "version": "3.7.3"
  }
 },
 "nbformat": 4,
 "nbformat_minor": 2
}
